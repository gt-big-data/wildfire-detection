{
  "cells": [
    {
      "cell_type": "markdown",
      "metadata": {
        "colab_type": "text",
        "id": "view-in-github"
      },
      "source": [
        "<a href=\"https://colab.research.google.com/github/asattiraju13/wildfire-detection/blob/analysis/Fire_Confidence_Predictor_%2B_Australia_Map.ipynb\" target=\"_parent\"><img src=\"https://colab.research.google.com/assets/colab-badge.svg\" alt=\"Open In Colab\"/></a>"
      ]
    },
    {
      "cell_type": "code",
      "execution_count": null,
      "id": "773b9f76",
      "metadata": {
        "id": "773b9f76"
      },
      "outputs": [],
      "source": [
        "import numpy as np\n",
        "import pandas as pd\n",
        "\n",
        "import matplotlib.pyplot as plt\n",
        "import seaborn as sns\n",
        "%matplotlib inline"
      ]
    },
    {
      "cell_type": "code",
      "execution_count": null,
      "id": "-hUvURT5AGzi",
      "metadata": {
        "colab": {
          "base_uri": "https://localhost:8080/"
        },
        "id": "-hUvURT5AGzi",
        "outputId": "d6ad339b-a64e-4f94-ae0d-c7420919aaed"
      },
      "outputs": [],
      "source": [
        "from google.colab import drive\n",
        "drive.mount('/content/drive')\n",
        "train_path = 'drive/MyDrive/Colab_Notebooks/fire_confidence_predictor.csv'"
      ]
    },
    {
      "cell_type": "code",
      "execution_count": null,
      "id": "28d66ea5",
      "metadata": {
        "id": "28d66ea5"
      },
      "outputs": [],
      "source": [
        "df = pd.read_csv(train_path)"
      ]
    },
    {
      "cell_type": "code",
      "execution_count": null,
      "id": "e2cc38a4",
      "metadata": {
        "colab": {
          "base_uri": "https://localhost:8080/",
          "height": 424
        },
        "id": "e2cc38a4",
        "outputId": "eb880252-7c0c-4a6d-a849-5683d77256b8"
      },
      "outputs": [],
      "source": [
        "df"
      ]
    },
    {
      "cell_type": "code",
      "execution_count": null,
      "id": "30c73c5c",
      "metadata": {
        "colab": {
          "base_uri": "https://localhost:8080/"
        },
        "id": "30c73c5c",
        "outputId": "ee345dc7-7475-4f1c-88cc-bbae4590f247"
      },
      "outputs": [],
      "source": [
        "df.info()"
      ]
    },
    {
      "cell_type": "code",
      "execution_count": null,
      "id": "d1ce9a87",
      "metadata": {
        "id": "d1ce9a87"
      },
      "outputs": [],
      "source": [
        "df.acq_date = pd.to_datetime(df['acq_date'])\n",
        "df = df.drop('acq_time',axis=1)"
      ]
    },
    {
      "cell_type": "code",
      "execution_count": null,
      "id": "d8cb267b",
      "metadata": {
        "id": "d8cb267b"
      },
      "outputs": [],
      "source": [
        "df.drop(['instrument','type','version','scan','track','acq_time'],axis=1,inplace=True)"
      ]
    },
    {
      "cell_type": "code",
      "execution_count": null,
      "id": "f79b88e0",
      "metadata": {
        "id": "f79b88e0"
      },
      "outputs": [],
      "source": [
        "df['day'] = df.acq_date.dt.day\n",
        "df['month'] = df.acq_date.dt.month\n",
        "\n",
        "df.drop(['acq_date'],axis=1,inplace=True)"
      ]
    },
    {
      "cell_type": "code",
      "execution_count": null,
      "id": "c0d3237f",
      "metadata": {
        "colab": {
          "base_uri": "https://localhost:8080/"
        },
        "id": "c0d3237f",
        "outputId": "0e7f32e9-86a9-4994-b59b-cabb61d16a46"
      },
      "outputs": [],
      "source": [
        "df.info()"
      ]
    },
    {
      "cell_type": "code",
      "execution_count": null,
      "id": "29251cbb",
      "metadata": {
        "colab": {
          "base_uri": "https://localhost:8080/",
          "height": 206
        },
        "id": "29251cbb",
        "outputId": "5e329e8f-1760-492c-cdcd-26c75289ab8a"
      },
      "outputs": [],
      "source": [
        "df.head()"
      ]
    },
    {
      "cell_type": "code",
      "execution_count": null,
      "id": "377c8ea2",
      "metadata": {
        "colab": {
          "base_uri": "https://localhost:8080/"
        },
        "id": "377c8ea2",
        "outputId": "7afd5766-8977-448f-cf0f-2173c1f1a27a"
      },
      "outputs": [],
      "source": [
        "df.instrument.value_counts()"
      ]
    },
    {
      "cell_type": "code",
      "execution_count": null,
      "id": "988f98dd",
      "metadata": {
        "id": "988f98dd"
      },
      "outputs": [],
      "source": [
        "df['daynight'].replace({'D':0,'N':1},inplace=True)\n",
        "df['satellite'].replace({'Terra':0,'Aqua':1},inplace=True)\n",
        "\n",
        "df = df.drop('instrument', axis = 1)"
      ]
    },
    {
      "cell_type": "code",
      "execution_count": null,
      "id": "25c264f3",
      "metadata": {
        "id": "25c264f3"
      },
      "outputs": [],
      "source": [
        "X = df.drop('confidence',axis=1)\n",
        "y = df.confidence"
      ]
    },
    {
      "cell_type": "code",
      "execution_count": null,
      "id": "e4f209be",
      "metadata": {
        "colab": {
          "base_uri": "https://localhost:8080/"
        },
        "id": "e4f209be",
        "outputId": "fef3b405-88b2-47c6-e50b-269eb1f3c66c"
      },
      "outputs": [],
      "source": [
        "len(df) * 0.7"
      ]
    },
    {
      "cell_type": "code",
      "execution_count": null,
      "id": "c3d10489",
      "metadata": {
        "id": "c3d10489"
      },
      "outputs": [],
      "source": [
        "X_train = X[:25207]\n",
        "X_test = X[25207:]\n",
        "\n",
        "y_train = y[:25207]\n",
        "y_test = y[25207:]"
      ]
    },
    {
      "cell_type": "code",
      "execution_count": null,
      "id": "413840e9",
      "metadata": {
        "id": "413840e9"
      },
      "outputs": [],
      "source": [
        "from catboost import CatBoostRegressor"
      ]
    },
    {
      "cell_type": "code",
      "execution_count": null,
      "id": "2a0da60e",
      "metadata": {
        "id": "2a0da60e"
      },
      "outputs": [],
      "source": [
        "from xgboost import XGBRegressor"
      ]
    },
    {
      "cell_type": "code",
      "execution_count": null,
      "id": "12a3f567",
      "metadata": {
        "id": "12a3f567"
      },
      "outputs": [],
      "source": [
        "from sklearn.metrics import mean_squared_error"
      ]
    },
    {
      "cell_type": "code",
      "execution_count": null,
      "id": "6a72a415",
      "metadata": {
        "id": "6a72a415"
      },
      "outputs": [],
      "source": [
        "cat = CatBoostRegressor(loss_function='RMSE',learning_rate=0.10)\n",
        "xgb = XGBRegressor(n_estimators = 500, learning_rate = 0.05, max_depth = 6)"
      ]
    },
    {
      "cell_type": "code",
      "execution_count": null,
      "id": "0da7532d",
      "metadata": {
        "colab": {
          "base_uri": "https://localhost:8080/"
        },
        "id": "0da7532d",
        "outputId": "720429fd-109d-4579-d746-ced38aba1a9c"
      },
      "outputs": [],
      "source": [
        "cat.fit(X_train, y_train)"
      ]
    },
    {
      "cell_type": "code",
      "execution_count": null,
      "id": "7e3bbc54",
      "metadata": {
        "colab": {
          "base_uri": "https://localhost:8080/"
        },
        "id": "7e3bbc54",
        "outputId": "1847dac1-43cd-4269-b00e-d085aa1c56e2"
      },
      "outputs": [],
      "source": [
        "np.sqrt(mean_squared_error(y_test,cat.predict(X_test)))"
      ]
    },
    {
      "cell_type": "code",
      "execution_count": null,
      "id": "c4c15eab",
      "metadata": {
        "colab": {
          "base_uri": "https://localhost:8080/"
        },
        "id": "c4c15eab",
        "outputId": "3c2a533d-0f1f-41d4-b605-a0112988ecf1",
        "scrolled": false
      },
      "outputs": [],
      "source": [
        "xgb.fit(X_train, y_train)"
      ]
    },
    {
      "cell_type": "code",
      "execution_count": null,
      "id": "fb7e1d47",
      "metadata": {
        "colab": {
          "base_uri": "https://localhost:8080/"
        },
        "id": "fb7e1d47",
        "outputId": "5900756d-d6de-4604-b594-38aa80012b1b"
      },
      "outputs": [],
      "source": [
        "np.sqrt(mean_squared_error(y_test,xgb.predict(X_test)))"
      ]
    },
    {
      "cell_type": "code",
      "execution_count": null,
      "id": "e8d1f2c8",
      "metadata": {
        "id": "e8d1f2c8"
      },
      "outputs": [],
      "source": [
        "y_pred = cat.predict(X_test)"
      ]
    },
    {
      "cell_type": "code",
      "execution_count": null,
      "id": "501fb17b",
      "metadata": {
        "id": "501fb17b"
      },
      "outputs": [],
      "source": [
        "lat = pd.Series(X_test.latitude)"
      ]
    },
    {
      "cell_type": "code",
      "execution_count": null,
      "id": "86b087b5",
      "metadata": {
        "id": "86b087b5"
      },
      "outputs": [],
      "source": [
        "long = pd.Series(X_test.longitude)"
      ]
    },
    {
      "cell_type": "code",
      "execution_count": null,
      "id": "c3ead15b",
      "metadata": {
        "id": "c3ead15b"
      },
      "outputs": [],
      "source": [
        "pred = pd.Series(y_pred)"
      ]
    },
    {
      "cell_type": "code",
      "execution_count": null,
      "id": "f3b1f031",
      "metadata": {
        "id": "f3b1f031"
      },
      "outputs": [],
      "source": [
        "actual = pd.Series(y_test)"
      ]
    },
    {
      "cell_type": "code",
      "execution_count": null,
      "id": "93c5923a",
      "metadata": {
        "id": "93c5923a"
      },
      "outputs": [],
      "source": [
        "map_df = pd.concat([lat,long,actual],axis=1)"
      ]
    },
    {
      "cell_type": "code",
      "execution_count": null,
      "id": "a16fe259",
      "metadata": {
        "id": "a16fe259"
      },
      "outputs": [],
      "source": [
        "map_df = map_df.reset_index().drop('index',axis=1)"
      ]
    },
    {
      "cell_type": "code",
      "execution_count": null,
      "id": "2e3f2771",
      "metadata": {
        "id": "2e3f2771"
      },
      "outputs": [],
      "source": [
        "map_df = pd.concat([map_df, pred], axis=1)"
      ]
    },
    {
      "cell_type": "code",
      "execution_count": null,
      "id": "55bf8479",
      "metadata": {
        "id": "55bf8479"
      },
      "outputs": [],
      "source": [
        "map_df = map_df.rename(columns={0:'pred'})"
      ]
    },
    {
      "cell_type": "code",
      "execution_count": null,
      "id": "ca6de8fc",
      "metadata": {
        "colab": {
          "base_uri": "https://localhost:8080/"
        },
        "id": "ca6de8fc",
        "outputId": "620dbe99-c1d9-437b-df0b-c472790762e6"
      },
      "outputs": [],
      "source": [
        "print(map_df.head())\n",
        "print(map_df.shape)"
      ]
    },
    {
      "cell_type": "code",
      "execution_count": null,
      "id": "9d87de6c",
      "metadata": {
        "colab": {
          "base_uri": "https://localhost:8080/",
          "height": 542
        },
        "id": "9d87de6c",
        "outputId": "78fd01ff-1f09-414a-cdfc-168431ada115"
      },
      "outputs": [],
      "source": [
        "import plotly.express as px\n",
        "\n",
        "fig = px.scatter_geo(map_df,lat='latitude',lon='longitude',color='confidence')\n",
        "fig.update_layout(title = 'Australia Map', title_x=0.5)\n",
        "fig.show()"
      ]
    },
    {
      "cell_type": "code",
      "execution_count": null,
      "id": "6f208133",
      "metadata": {
        "colab": {
          "base_uri": "https://localhost:8080/"
        },
        "id": "6f208133",
        "outputId": "34502549-1da6-4ae7-caaa-0bce44287938"
      },
      "outputs": [],
      "source": [
        "!pip install catboost"
      ]
    },
    {
      "cell_type": "code",
      "execution_count": null,
      "id": "GeRHGlO7A4U4",
      "metadata": {
        "id": "GeRHGlO7A4U4"
      },
      "outputs": [],
      "source": []
    }
  ],
  "metadata": {
    "colab": {
      "collapsed_sections": [],
      "include_colab_link": true,
      "name": "Fire Confidence Predictor + Australia Map.ipynb",
      "provenance": []
    },
    "interpreter": {
      "hash": "fb63ce5e46d0a9f12d9241e68825a37940383036f9a651f9221ae4f4b10372d4"
    },
    "kernelspec": {
      "display_name": "Python 3.8.8 64-bit ('base': conda)",
      "language": "python",
      "name": "python3"
    },
    "language_info": {
      "codemirror_mode": {
        "name": "ipython",
        "version": 3
      },
      "file_extension": ".py",
      "mimetype": "text/x-python",
      "name": "python",
      "nbconvert_exporter": "python",
      "pygments_lexer": "ipython3",
      "version": "3.9.6"
    }
  },
  "nbformat": 4,
  "nbformat_minor": 5
}
