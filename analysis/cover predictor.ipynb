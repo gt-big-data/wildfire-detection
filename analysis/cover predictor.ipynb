{
 "cells": [
  {
   "cell_type": "markdown",
   "id": "125d4f1b",
   "metadata": {},
   "source": [
    "\n",
    "## Initial Analysis of Wildfire Cover Data"
   ]
  },
  {
   "cell_type": "code",
   "execution_count": null,
   "id": "50757d18",
   "metadata": {},
   "outputs": [],
   "source": [
    "import pandas as pd\n",
    "import numpy as np\n",
    "import seaborn as sns\n",
    "import matplotlib.pyplot as plt\n",
    "%matplotlib inline"
   ]
  },
  {
   "cell_type": "code",
   "execution_count": null,
   "id": "68b47201",
   "metadata": {},
   "outputs": [],
   "source": [
    "df = pd.read_csv('covtype.csv')"
   ]
  },
  {
   "cell_type": "code",
   "execution_count": null,
   "id": "379c34ba",
   "metadata": {},
   "outputs": [],
   "source": [
    "df"
   ]
  },
  {
   "cell_type": "code",
   "execution_count": null,
   "id": "125e64f5",
   "metadata": {},
   "outputs": [],
   "source": [
    "df.info()"
   ]
  },
  {
   "cell_type": "code",
   "execution_count": null,
   "id": "64d9f703",
   "metadata": {},
   "outputs": [],
   "source": [
    "X = df.drop(\"Cover_Type\",axis=1)\n",
    "y = df[\"Cover_Type\"]"
   ]
  },
  {
   "cell_type": "code",
   "execution_count": null,
   "id": "4c6d7247",
   "metadata": {},
   "outputs": [],
   "source": [
    "# From Kaggle website\n",
    "y = pd.get_dummies(y, drop_first = True)\n",
    "y = y.rename(columns={2:'Lodgepole Pine', 3:'Ponderosa Pine', 4:'Cottonwood/Willow', \n",
    "                      5:'Aspen', 6:'Douglas-fir', 7:'Krummholz'})"
   ]
  },
  {
   "cell_type": "code",
   "execution_count": null,
   "id": "9166910a",
   "metadata": {},
   "outputs": [],
   "source": [
    "y"
   ]
  },
  {
   "cell_type": "code",
   "execution_count": null,
   "id": "bb19a5ed",
   "metadata": {},
   "outputs": [],
   "source": [
    "from sklearn.ensemble import RandomForestClassifier\n",
    "from sklearn.inspection import permutation_importance\n",
    "from sklearn.model_selection import StratifiedShuffleSplit\n",
    "from sklearn.metrics import classification_report"
   ]
  },
  {
   "cell_type": "code",
   "execution_count": null,
   "id": "b57d7208",
   "metadata": {},
   "outputs": [],
   "source": [
    "from sklearn.model_selection import GridSearchCV\n",
    "\n",
    "from sklearn.model_selection import train_test_split"
   ]
  },
  {
   "cell_type": "code",
   "execution_count": null,
   "id": "4bbc5b68",
   "metadata": {},
   "outputs": [],
   "source": [
    "# Hyperparameter Tuning\n",
    "\n",
    "X_train, X_test, y_train, y_test = train_test_split(X, y, test_size=0.33, random_state=42)\n",
    "\n",
    "param_grid = {'n_estimators':[100,250],'max_depth':[5,7,9],'ccp_alpha':[0.0,0.1,0.25,0.5]}\n",
    "clf = RandomForestClassifier(max_features = \"sqrt\",class_weight=\"balanced\")\n",
    "\n",
    "grid = GridSearchCV(clf, param_grid)\n",
    "\n",
    "grid.fit(X_train, y_train)\n",
    "\n",
    "print(grid.best_params_)\n",
    "print(classification_report(y_test, grid.predict(X_test)))"
   ]
  },
  {
   "cell_type": "code",
   "execution_count": null,
   "id": "84f3f780",
   "metadata": {},
   "outputs": [],
   "source": [
    "clf = RandomForestClassifier(n_estimators=100, max_features = \"sqrt\", class_weight=\"balanced\")"
   ]
  },
  {
   "cell_type": "code",
   "execution_count": null,
   "id": "89dc22b9",
   "metadata": {},
   "outputs": [],
   "source": [
    "sss = StratifiedShuffleSplit(n_splits=5, random_state=42,test_size=0.25)"
   ]
  },
  {
   "cell_type": "code",
   "execution_count": null,
   "id": "5902a51f",
   "metadata": {},
   "outputs": [],
   "source": [
    "i = 0\n",
    "y_pred_all = []\n",
    "for train_index, test_index in sss.split(X, y):\n",
    "    X_train, X_test = X.loc[train_index], X.loc[test_index]\n",
    "    y_train, y_test = y.loc[train_index], y.loc[test_index]\n",
    "    \n",
    "    clf.fit(X_train, y_train)\n",
    "    y_pred = clf.predict(X_test)\n",
    "    \n",
    "    y_pred_all.append(y_pred)\n",
    "    print(\"Fold \" + str(i))\n",
    "    print(classification_report(y_test, y_pred))\n",
    "    \n",
    "    print()\n",
    "    \n",
    "    importances = clf.feature_importances_\n",
    "    feature_names = [f\"feature {i}\" for i in range(X.shape[1])]\n",
    "    forest_importances = pd.Series(importances, index=feature_names)\n",
    "\n",
    "    plt.figure(figsize=(10,10))\n",
    "    sns.barplot(x = forest_importances.index, y = forest_importances.values)\n",
    "    plt.xticks(rotation=70)\n",
    "    plt.tight_layout()\n",
    "    plt.show()\n",
    "\n",
    "    i += 1\n",
    "    "
   ]
  },
  {
   "cell_type": "code",
   "execution_count": null,
   "id": "866f4f12",
   "metadata": {},
   "outputs": [],
   "source": [
    "pd.concat([pd.DataFrame(feature_names),pd.DataFrame(X.columns)],axis=1)"
   ]
  }
 ],
 "metadata": {
  "kernelspec": {
   "display_name": "Python 3.8.8 64-bit ('base': conda)",
   "language": "python",
   "name": "python388jvsc74a57bd0db247b68c272a1cde3bdee6b84f3f2ce24663631c4b92b08adbd61c23957d62b"
  },
  "language_info": {
   "codemirror_mode": {
    "name": "ipython",
    "version": 3
   },
   "file_extension": ".py",
   "mimetype": "text/x-python",
   "name": "python",
   "nbconvert_exporter": "python",
   "pygments_lexer": "ipython3",
   "version": "3.8.8"
  }
 },
 "nbformat": 4,
 "nbformat_minor": 5
}
