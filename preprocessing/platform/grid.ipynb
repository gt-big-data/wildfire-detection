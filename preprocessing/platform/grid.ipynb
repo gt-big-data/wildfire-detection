{
 "cells": [
  {
   "cell_type": "code",
   "execution_count": 8,
   "metadata": {},
   "outputs": [],
   "source": [
    "import pandas as pd\n",
    "import geopandas as gpd\n",
    "import numpy as np\n",
    "import shapely as sp"
   ]
  },
  {
   "cell_type": "code",
   "execution_count": 9,
   "metadata": {},
   "outputs": [],
   "source": [
    "ca = gpd.read_file('preprocessing/ca-state-boundary')\n",
    "ca = ca.to_crs(4326) # reproject to WGS84 lon lat"
   ]
  },
  {
   "cell_type": "markdown",
   "metadata": {},
   "source": [
    "## Generate Grid\n",
    "Takes around 1 minute to run for GRID_RESOLUTION = 200"
   ]
  },
  {
   "cell_type": "code",
   "execution_count": 10,
   "metadata": {},
   "outputs": [],
   "source": [
    "GRID_RESOLUTION = 100  # this ** 2 = num of generated points\n",
    "\n",
    "# generate a uniform grid of points based within california's bounding box\n",
    "lon_min, lat_min, lon_max, lat_max = ca.total_bounds\n",
    "lons = np.linspace(lon_min, lon_max, GRID_RESOLUTION)\n",
    "lats = np.linspace(lat_min, lat_max, GRID_RESOLUTION)\n",
    "pts = np.dstack(np.meshgrid(lons, lats)).reshape(-1, 2)\n",
    "grid = gpd.GeoSeries(gpd.points_from_xy(pts[:, 0], pts[:, 1]))\n",
    "grid = grid[grid.within(ca.unary_union)]"
   ]
  },
  {
   "cell_type": "markdown",
   "metadata": {},
   "source": [
    "## Save Coordinates to File"
   ]
  },
  {
   "cell_type": "code",
   "execution_count": 11,
   "metadata": {},
   "outputs": [],
   "source": [
    "grid_df = pd.DataFrame([[p.xy[0][0], p.xy[1][0]] for p in grid.geometry])\n",
    "grid_df.columns = ['lon', 'lat']\n",
    "grid_df.to_csv('deploy/grid.csv')"
   ]
  }
 ],
 "metadata": {
  "interpreter": {
   "hash": "fb63ce5e46d0a9f12d9241e68825a37940383036f9a651f9221ae4f4b10372d4"
  },
  "kernelspec": {
   "display_name": "Python 3.9.6 ('wildfire-detection-TINLwnk6')",
   "language": "python",
   "name": "python3"
  },
  "language_info": {
   "codemirror_mode": {
    "name": "ipython",
    "version": 3
   },
   "file_extension": ".py",
   "mimetype": "text/x-python",
   "name": "python",
   "nbconvert_exporter": "python",
   "pygments_lexer": "ipython3",
   "version": "3.8.10"
  },
  "orig_nbformat": 4
 },
 "nbformat": 4,
 "nbformat_minor": 2
}
