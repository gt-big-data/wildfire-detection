{
 "cells": [
  {
   "cell_type": "code",
   "execution_count": null,
   "metadata": {},
   "outputs": [],
   "source": [
    "import pandas as pd"
   ]
  },
  {
   "cell_type": "code",
   "execution_count": null,
   "metadata": {},
   "outputs": [],
   "source": [
    "station_df = pd.read_excel('data\\\\staging\\\\cimis\\\\cimis_stations.xlsx')\n",
    "cimis_df = pd.read_csv('data\\\\cimis_wind.csv')"
   ]
  },
  {
   "cell_type": "markdown",
   "metadata": {},
   "source": [
    "Merge cimis_df with station_df to add lat and lon of each station "
   ]
  },
  {
   "cell_type": "code",
   "execution_count": null,
   "metadata": {},
   "outputs": [],
   "source": [
    "station_df = station_df[['Station Number', 'Latitude', 'Longitude']]\n",
    "station_df = station_df[station_df['Station Number'].notna()].astype({'Station Number': 'int64'})\n",
    "\n",
    "cimis_df = cimis_df.merge(station_df, left_on='station', right_on='Station Number', how='left')\n",
    "cimis_df = cimis_df[['year', 'wind_mph', 'Latitude', 'Longitude']]\n",
    "cimis_df = cimis_df.dropna()\n",
    "cimis_df.columns = ['year', 'wind_mph', 'lat', 'lon']"
   ]
  },
  {
   "cell_type": "code",
   "execution_count": null,
   "metadata": {},
   "outputs": [],
   "source": [
    "cimis_df.to_csv('data/cimis_wind.csv')"
   ]
  },
  {
   "cell_type": "code",
   "execution_count": null,
   "metadata": {},
   "outputs": [],
   "source": [
    "from ftplib import FTP\n",
    "ftp = FTP('ftp.cimis.water.ca.gov')\n",
    "ftp.login()\n",
    "# ftp.cwd('pub2')"
   ]
  },
  {
   "cell_type": "code",
   "execution_count": null,
   "metadata": {},
   "outputs": [],
   "source": [
    "with open('data\\\\staging\\\\cimis\\\\stations.xlsx', 'wb') as fp:\n",
    "    ftp.retrbinary('RETR pub2/CIMIS Stations List (January20).xlsx', fp.write)"
   ]
  }
 ],
 "metadata": {
  "interpreter": {
   "hash": "fb63ce5e46d0a9f12d9241e68825a37940383036f9a651f9221ae4f4b10372d4"
  },
  "kernelspec": {
   "display_name": "Python 3.9.6 ('wildfire-detection-TINLwnk6')",
   "language": "python",
   "name": "python3"
  },
  "language_info": {
   "codemirror_mode": {
    "name": "ipython",
    "version": 3
   },
   "file_extension": ".py",
   "mimetype": "text/x-python",
   "name": "python",
   "nbconvert_exporter": "python",
   "pygments_lexer": "ipython3",
   "version": "3.9.6"
  },
  "orig_nbformat": 4
 },
 "nbformat": 4,
 "nbformat_minor": 2
}
