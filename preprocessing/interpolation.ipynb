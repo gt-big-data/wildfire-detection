{
 "cells": [
  {
   "cell_type": "markdown",
   "metadata": {},
   "source": [
    "## Interpolation Between Data Points\n",
    "\n",
    "Check [this](https://docs.scipy.org/doc/scipy/reference/generated/scipy.interpolate.griddata.html#scipy.interpolate.griddata) out to see how it works\n",
    "\n",
    "When you only have a few data points scattered geographically, it can be useful to guess what the data values will be in between them.\n",
    "That way, you can generate a lot more training data. Of course, there is the risk of guessing wrong, but that's a tradeoff you have to decide for yourself"
   ]
  },
  {
   "cell_type": "code",
   "execution_count": null,
   "metadata": {},
   "outputs": [],
   "source": [
    "import pandas as pd\n",
    "import numpy as np\n",
    "from scipy.interpolate import griddata"
   ]
  },
  {
   "cell_type": "code",
   "execution_count": null,
   "metadata": {},
   "outputs": [],
   "source": [
    "interp_points = pd.read_csv('preprocessing/grid.csv', index_col=0).to_numpy()[::10]\n",
    "wind_data = pd.read_csv('data/wind_by_zip.csv', index_col=0)"
   ]
  },
  {
   "cell_type": "code",
   "execution_count": null,
   "metadata": {},
   "outputs": [],
   "source": [
    "data_points = wind_data[['lon', 'lat']].to_numpy()\n",
    "data_values = wind_data['wind_mph'].to_numpy()\n",
    "\n",
    "interp_values = griddata(data_points, data_values, interp_points, method='linear')\n",
    "interp_result = pd.DataFrame(np.append(interp_points, interp_values[:,None], 1))\n",
    "interp_result.columns = ['lon', 'lat', 'wind_mph_interp']\n",
    "interp_result = interp_result.dropna().reset_index(drop=True)\n",
    "\n",
    "interp_result"
   ]
  }
 ],
 "metadata": {
  "interpreter": {
   "hash": "432c0d7c15e4762432d0ee85a193c0e33c366f24a99b5ca19bc5fa3000115c0f"
  },
  "kernelspec": {
   "display_name": "Python 3.8.10 ('wildfire-detection-MND44oVs')",
   "language": "python",
   "name": "python3"
  },
  "language_info": {
   "codemirror_mode": {
    "name": "ipython",
    "version": 3
   },
   "file_extension": ".py",
   "mimetype": "text/x-python",
   "name": "python",
   "nbconvert_exporter": "python",
   "pygments_lexer": "ipython3",
   "version": "3.8.10"
  },
  "orig_nbformat": 4
 },
 "nbformat": 4,
 "nbformat_minor": 2
}
