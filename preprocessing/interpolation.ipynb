{
 "cells": [
  {
   "cell_type": "markdown",
   "metadata": {},
   "source": []
  },
  {
   "cell_type": "code",
   "execution_count": 2,
   "metadata": {},
   "outputs": [],
   "source": [
    "import pandas as pd\n",
    "import numpy as np\n",
    "from scipy.interpolate import griddata"
   ]
  },
  {
   "cell_type": "code",
   "execution_count": 34,
   "metadata": {},
   "outputs": [],
   "source": [
    "query_pts = pd.read_csv('preprocessing/grid.csv', index_col=0).to_numpy()[::10]\n",
    "wind = pd.read_csv('data/wind_by_zip.csv', index_col=0)"
   ]
  },
  {
   "cell_type": "code",
   "execution_count": 41,
   "metadata": {},
   "outputs": [],
   "source": [
    "vals = wind['wind_mph'].to_numpy()\n",
    "pts = wind[['lon', 'lat']].to_numpy()\n",
    "\n",
    "res = griddata(pts, vals, query_pts)\n"
   ]
  },
  {
   "cell_type": "code",
   "execution_count": 66,
   "metadata": {},
   "outputs": [],
   "source": [
    "interp_pts = pd.DataFrame(np.append(query_pts, res[:,None], 1))\n",
    "interp_pts.columns = ['lon', 'lat', 'wind_mph_interp']"
   ]
  },
  {
   "cell_type": "code",
   "execution_count": 75,
   "metadata": {},
   "outputs": [
    {
     "data": {
      "text/plain": [
       "wind_mph      5.850000\n",
       "lat          32.553021\n",
       "lon        -124.326421\n",
       "dtype: float64"
      ]
     },
     "execution_count": 75,
     "metadata": {},
     "output_type": "execute_result"
    }
   ],
   "source": [
    "interp_pts.dropna().reset_index(drop=True)['wind_mph_interp'].max()"
   ]
  }
 ],
 "metadata": {
  "interpreter": {
   "hash": "432c0d7c15e4762432d0ee85a193c0e33c366f24a99b5ca19bc5fa3000115c0f"
  },
  "kernelspec": {
   "display_name": "Python 3.8.10 ('wildfire-detection-MND44oVs')",
   "language": "python",
   "name": "python3"
  },
  "language_info": {
   "codemirror_mode": {
    "name": "ipython",
    "version": 3
   },
   "file_extension": ".py",
   "mimetype": "text/x-python",
   "name": "python",
   "nbconvert_exporter": "python",
   "pygments_lexer": "ipython3",
   "version": "3.8.10"
  },
  "orig_nbformat": 4
 },
 "nbformat": 4,
 "nbformat_minor": 2
}
