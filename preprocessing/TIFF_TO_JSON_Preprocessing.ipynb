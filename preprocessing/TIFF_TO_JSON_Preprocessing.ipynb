{
 "cells": [
  {
   "cell_type": "code",
   "execution_count": 193,
   "outputs": [],
   "source": [
    "\n",
    "import rasterio\n",
    "import rasterio.features\n",
    "import rasterio.warp\n",
    "from rasterio.enums import Resampling\n",
    "from rasterio import Affine, MemoryFile\n",
    "\n",
    "from matplotlib import pyplot\n",
    "import geopandas\n",
    "from geopandas import GeoDataFrame, GeoSeries\n",
    "import matplotlib.pyplot as plt\n",
    "from matplotlib.colors import Normalize\n",
    "import matplotlib.cm as cm\n",
    "%matplotlib inline\n",
    "import seaborn as sns\n",
    "from shapely.geometry import Point, Polygon\n",
    "import numpy as np\n",
    "from datetime import datetime\n",
    "import json\n",
    "\n",
    "plt.rcParams[\"figure.figsize\"] = [8,6]"
   ],
   "metadata": {
    "collapsed": false,
    "pycharm": {
     "name": "#%%\n"
    }
   }
  },
  {
   "cell_type": "code",
   "execution_count": 194,
   "outputs": [],
   "source": [
    "# load tiff file and create ndarray\n",
    "# file_name = \"forest_raw_data/Hansen_GFC-2020-v1.8_treecover2000_40N_130W.tif\"\n",
    "# file_name = \"forest_raw_data/Hansen_GFC-2020-v1.8_gain_40N_130W.tif\"\n",
    "file_name = \"forest_raw_data/Hansen_GFC-2020-v1.8_datamask_50N_130W.tif\"\n",
    "# file_name = \"forest_raw_data/Hansen_GFC-2020-v1.8_lossyear_40N_130W.tif\"\n",
    "# img = rasterio.open(file_name)\n",
    "# tiff_array = img.read(1)\n",
    "\n",
    "upscale_factor = 1./10\n",
    "dataset = rasterio.open(file_name)"
   ],
   "metadata": {
    "collapsed": false,
    "pycharm": {
     "name": "#%%\n"
    }
   }
  },
  {
   "cell_type": "code",
   "execution_count": 195,
   "outputs": [],
   "source": [
    "from pyproj import Transformer\n",
    "transformer = Transformer.from_crs(\"EPSG:4326\", dataset.crs, always_xy=True)"
   ],
   "metadata": {
    "collapsed": false,
    "pycharm": {
     "name": "#%%\n"
    }
   }
  },
  {
   "cell_type": "code",
   "execution_count": 196,
   "outputs": [],
   "source": [
    "%matplotlib agg\n",
    "%matplotlib agg\n",
    "\n",
    "# Comments/explanations for this code in other notebooks.\n",
    "boundy1, boundx1 = 32.5239920572277, -124.38498819727948\n",
    "boundy2, boundx2 = 42.01477274871176, -114.13276715586254\n",
    "\n",
    "plt.gca().set_xlim([boundx1, boundx2])\n",
    "plt.gca().set_ylim([boundy1, boundy2])\n",
    "\n",
    "xmin, xmax, ymin, ymax = boundx1, boundx2, boundy1, boundy2\n",
    "\n",
    "granularity = 400\n",
    "xx, yy = np.meshgrid(np.linspace(xmin,xmax,granularity), np.linspace(ymin,ymax, int(granularity/abs(xmax - xmin) * abs(ymax - ymin))))\n",
    "\n",
    "yurok_reservation_long = -123.891719\n",
    "yurok_reservation_lat = 41.372322\n",
    "\n",
    "travis_long = -121.939857\n",
    "travis_lat = 38.272118\n",
    "\n",
    "region_indcs = np.where(np.logical_and(np.logical_and(xx >= yurok_reservation_long, xx <= travis_long), np.logical_and(yy >= travis_lat, yy <= yurok_reservation_lat)))\n",
    "\n",
    "xc = xx[region_indcs]\n",
    "yc = yy[region_indcs]\n",
    "\n",
    "# The data is separated out in huge chunks, and our grid of points lies in more than one chunk.\n",
    "# We need to retrieve data across separate tiff images consequently.\n",
    "\n",
    "quad_50N_args = np.where(np.logical_and(np.logical_and(-130 <= xc, xc <= -120), np.logical_and(40 <= yc, yc <= 50)))[0]\n",
    "quad_40N_args = np.where(np.logical_and(np.logical_and(-130 <= xc, xc <= -120), np.logical_and(30 <= yc, yc < 40)))[0]\n",
    "xc_quad_50N, yc_quad_50N = xc[quad_50N_args], yc[quad_50N_args]\n",
    "xc_quad_40N, yc_quad_40N = xc[quad_40N_args], yc[quad_40N_args]\n",
    "\n",
    "# This transformation is not needed actually, the data is in a modern representation\n",
    "# longs, lats = transformer.transform(xc_quad_50N, yc_quad_50N)\n",
    "longs, lats = xc_quad_50N, yc_quad_50N"
   ],
   "metadata": {
    "collapsed": false,
    "pycharm": {
     "name": "#%%\n"
    }
   }
  },
  {
   "cell_type": "code",
   "execution_count": 197,
   "outputs": [],
   "source": [
    "# The whole point of the next two notebook cells is to use a scaled down TIFF image. The original is huge (40,000^2).\n",
    "# Rasterio's read function, while it works nicely, returns only a numpy array instead of a rasterio DatasetReader object,\n",
    "# and we lose all information about the rasterio tiff representation originally (e.g. coordinate system, sampling abilities, etc.)\n",
    "# Rasterio does not have a nice method to easily obtain a DataReader representation that is scaled up/down from the original TIFF.\n",
    "# So to loop around this we rewrite the scaled down data in memory and open it as a DataReader object and work with that.\n",
    "\n",
    "# Credit to https://gis.stackexchange.com/questions/329434/creating-an-in-memory-rasterio-dataset-from-numpy-array\n",
    "\n",
    "from contextlib import contextmanager\n",
    "@contextmanager\n",
    "def resample_raster(raster, scale=1./10):\n",
    "    t = raster.transform\n",
    "\n",
    "    # rescale the metadata\n",
    "    ## Adjust transformation so dims are integers, not floats.\n",
    "    transform = Affine(t.a / scale, t.b, t.c, t.d, t.e / scale, t.f)\n",
    "    height = int(raster.height * scale)\n",
    "    width = int(raster.width * scale)\n",
    "\n",
    "    profile = raster.profile\n",
    "    profile.update(transform=transform, driver='GTiff', height=height, width=width)\n",
    "\n",
    "    ## There were a decent amount of 0s, 100s in the original canopy cover image\n",
    "    ## -> using bilinear resampling here to do some small smoothing (2x2 window average)\n",
    "    ## Can also experiment with cubic smoothing as well later (4x4 window average)\n",
    "    ## For discrete categories, we use nearest neighbor.\n",
    "\n",
    "    data = raster.read( # Note changed order of indexes, arrays are band, row, col order not row, col, band\n",
    "            out_shape=(raster.count, height, width),\n",
    "            resampling=Resampling.nearest,\n",
    "        )\n",
    "\n",
    "    with MemoryFile() as memfile:\n",
    "        with memfile.open(**profile) as new_data: # Open as DatasetWriter\n",
    "            new_data.write(data)\n",
    "            del data\n",
    "\n",
    "        with memfile.open() as new_data:  # Reopen as DatasetReader\n",
    "            yield new_data  # Note yield not return"
   ],
   "metadata": {
    "collapsed": false,
    "pycharm": {
     "name": "#%%\n"
    }
   }
  },
  {
   "cell_type": "code",
   "execution_count": 198,
   "outputs": [
    {
     "name": "stdout",
     "output_type": "stream",
     "text": [
      "Orig dims: (40000, 40000), New dims: (4000, 4000)\n"
     ]
    },
    {
     "data": {
      "text/plain": "<Figure size 432x288 with 1 Axes>",
      "image/png": "[encoded data removed]"
     },
     "metadata": {
      "needs_background": "light"
     },
     "output_type": "display_data"
    }
   ],
   "source": [
    "%matplotlib inline\n",
    "vals = None\n",
    "\n",
    "with rasterio.open(file_name) as src:\n",
    "    with resample_raster(src) as dataset:\n",
    "        print('Orig dims: {}, New dims: {}'.format(src.shape, dataset.shape))\n",
    "\n",
    "        pyplot.imshow(dataset.read(1), cmap='pink')\n",
    "        pyplot.show()\n",
    "        vals = np.array(list(dataset.sample(zip(longs, lats), masked=True))).flatten()\n"
   ],
   "metadata": {
    "collapsed": false,
    "pycharm": {
     "name": "#%%\n"
    }
   }
  },
  {
   "cell_type": "code",
   "execution_count": 199,
   "outputs": [
    {
     "name": "stdout",
     "output_type": "stream",
     "text": [
      "[1 1 1 ... 1 1 1]\n"
     ]
    }
   ],
   "source": [
    "print(vals)"
   ],
   "metadata": {
    "collapsed": false,
    "pycharm": {
     "name": "#%%\n"
    }
   }
  },
  {
   "cell_type": "code",
   "execution_count": 200,
   "outputs": [
    {
     "name": "stdout",
     "output_type": "stream",
     "text": [
      "1\n",
      "2\n",
      "4104\n"
     ]
    }
   ],
   "source": [
    "print(np.min(vals))\n",
    "print(np.max(vals))\n",
    "print(len(vals))"
   ],
   "metadata": {
    "collapsed": false,
    "pycharm": {
     "name": "#%%\n"
    }
   }
  },
  {
   "cell_type": "code",
   "execution_count": 201,
   "outputs": [
    {
     "data": {
      "text/plain": "<Figure size 360x360 with 1 Axes>",
      "image/png": "[encoded data removed]"
     },
     "metadata": {
      "needs_background": "light"
     },
     "output_type": "display_data"
    }
   ],
   "source": [
    "%matplotlib inline\n",
    "sns.displot(vals, binwidth=1)\n",
    "plt.show()"
   ],
   "metadata": {
    "collapsed": false,
    "pycharm": {
     "name": "#%%\n"
    }
   }
  },
  {
   "cell_type": "code",
   "execution_count": 202,
   "outputs": [
    {
     "name": "stdout",
     "output_type": "stream",
     "text": [
      "0\n",
      "4088\n",
      "16\n",
      "4104\n"
     ]
    }
   ],
   "source": [
    "print(len(np.where(vals == 0)[0]))\n",
    "print(len(np.where(vals == 1)[0]))\n",
    "print(len(np.where(vals == 2)[0]))\n",
    "print(len(longs))"
   ],
   "metadata": {
    "collapsed": false,
    "pycharm": {
     "name": "#%%\n"
    }
   }
  },
  {
   "cell_type": "code",
   "execution_count": 203,
   "id": "53486132",
   "metadata": {},
   "outputs": [],
   "source": [
    "# Rewrite into np array and save.\n",
    "datapoints = np.array([longs, lats, vals]).astype(np.double).T"
   ]
  },
  {
   "cell_type": "code",
   "execution_count": 204,
   "outputs": [],
   "source": [
    "output_file=\"../data/datamask_50.npy\""
   ],
   "metadata": {
    "collapsed": false,
    "pycharm": {
     "name": "#%%\n"
    }
   }
  },
  {
   "cell_type": "code",
   "execution_count": 205,
   "outputs": [
    {
     "name": "stdout",
     "output_type": "stream",
     "text": [
      "(4104,)\n",
      "(4104, 3)\n",
      "[[-123.87109241   40.00859146    1.        ]\n",
      " [-123.84539762   40.00859146    1.        ]\n",
      " [-123.81970283   40.00859146    1.        ]\n",
      " [-123.79400804   40.00859146    1.        ]\n",
      " [-123.76831325   40.00859146    1.        ]]\n"
     ]
    }
   ],
   "source": [
    "# Verify shape and preview values\n",
    "print(longs.shape)\n",
    "print(datapoints.shape)\n",
    "print(datapoints[:5, :])"
   ],
   "metadata": {
    "collapsed": false,
    "pycharm": {
     "name": "#%%\n"
    }
   }
  },
  {
   "cell_type": "code",
   "execution_count": 206,
   "outputs": [],
   "source": [
    "# Save\n",
    "np.save(output_file, datapoints)"
   ],
   "metadata": {
    "collapsed": false,
    "pycharm": {
     "name": "#%%\n"
    }
   }
  }
 ],
 "metadata": {
  "kernelspec": {
   "display_name": "Python 3",
   "language": "python",
   "name": "python3"
  },
  "language_info": {
   "codemirror_mode": {
    "name": "ipython",
    "version": 3
   },
   "file_extension": ".py",
   "mimetype": "text/x-python",
   "name": "python",
   "nbconvert_exporter": "python",
   "pygments_lexer": "ipython3",
   "version": "3.8.8"
  }
 },
 "nbformat": 4,
 "nbformat_minor": 5
}