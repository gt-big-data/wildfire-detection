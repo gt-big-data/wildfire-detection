{
 "cells": [
  {
   "cell_type": "code",
   "execution_count": 58,
   "metadata": {},
   "outputs": [],
   "source": [
    "\n",
    "import geopandas\n",
    "from geopandas import GeoDataFrame, GeoSeries\n",
    "import matplotlib.pyplot as plt\n",
    "from matplotlib.colors import Normalize\n",
    "import matplotlib.cm as cm\n",
    "%matplotlib inline\n",
    "import seaborn as sns\n",
    "from shapely.geometry import Point, Polygon\n",
    "import numpy as np\n",
    "import googlemaps\n",
    "from datetime import datetime\n",
    "import json\n",
    "plt.rcParams[\"figure.figsize\"] = [8,6]\n",
    "\n",
    "\n",
    "# The file here looks at all California Dept of Fires (CDF) data from 2020 onwards. Polygons are thus mostly limited to California.\n",
    "fires = GeoDataFrame.from_file('./Interagency_Fire_Perimeter_History_-_All_Years (2)/InteragencyFirePerimeterHistory.shp')\n",
    "\n"
   ]
  },
  {
   "cell_type": "code",
   "execution_count": 59,
   "metadata": {
    "scrolled": false
   },
   "outputs": [
    {
     "data": {
      "text/plain": [
       "<AxesSubplot:>"
      ]
     },
     "execution_count": 59,
     "metadata": {},
     "output_type": "execute_result"
    },
    {
     "data": {
      "image/png": "[encoded data removed]",
      "text/plain": [
       "<Figure size 720x720 with 1 Axes>"
      ]
     },
     "metadata": {
      "needs_background": "light"
     },
     "output_type": "display_data"
    }
   ],
   "source": [
    "# FID looks like just the row numbers given after the filtering done on the dept end - nothing useful \n",
    "# Object ID may take into account the fact that we have filtered the data (some get skipped here and there).\n",
    "fires = fires.set_index('FID')\n",
    "fires = fires.sort_index()\n",
    "\n",
    "# Plot and color by map_method. In other words, provide different colors for different classifications (e.g. blue for GPS Ground, red for Infrared)\n",
    "# Not really needed, but interesting to see, and we can use this later in our analysis if needed.\n",
    "fires.plot(column = 'MAP_METHOD', figsize=(10,10), aspect=1)\n"
   ]
  },
  {
   "cell_type": "code",
   "execution_count": 60,
   "metadata": {},
   "outputs": [
    {
     "name": "stdout",
     "output_type": "stream",
     "text": [
      "(370, 400)\n"
     ]
    }
   ],
   "source": [
    "%matplotlib agg\n",
    "%matplotlib agg\n",
    "\n",
    "# Bottom left corner\n",
    "boundy1, boundx1 = 32.5239920572277, -124.38498819727948\n",
    "# Top right corner (near top right of nevada to capture all of CA)\n",
    "boundy2, boundx2 = 42.01477274871176, -114.13276715586254\n",
    "\n",
    "\n",
    "plt.gca().set_xlim([boundx1, boundx2])\n",
    "plt.gca().set_ylim([boundy1, boundy2])\n",
    "\n",
    "# make a grid of latitude-longitude values\n",
    "xmin, xmax, ymin, ymax = boundx1, boundx2, boundy1, boundy2\n",
    "\n",
    "# Calculation to ensure length and width are uniform (squares appx., not rectangles)\n",
    "# 400 squares width for the length of california (based on the above boundaries)\n",
    "# Note here that xx, yy are for ALL OF california. Use xc, yc for the specific region.\n",
    "granularity = 400\n",
    "xx, yy = np.meshgrid(np.linspace(xmin,xmax,granularity), np.linspace(ymin,ymax, int(granularity/abs(xmax - xmin) * abs(ymax - ymin))))\n",
    "print(xx.shape) # Again, xx, yy are rectangular grids on the entirety of CA (+ Nevada, ocean)"
   ]
  },
  {
   "cell_type": "code",
   "execution_count": 61,
   "metadata": {},
   "outputs": [
    {
     "name": "stdout",
     "output_type": "stream",
     "text": [
      "# of Coordinates to explore in region: 9196\n"
     ]
    }
   ],
   "source": [
    "# Rectangular Area to initially explore for project.\n",
    "# Top Left\n",
    "yurok_reservation_long = -123.891719\n",
    "yurok_reservation_lat = 41.372322\n",
    "\n",
    "# Bottom Right (travis air force base)\n",
    "travis_long = -121.939857\n",
    "travis_lat = 38.272118\n",
    "\n",
    "# xx, yy above are all valid points we can explore in the future (the entire grid of points in California (+ ocean, to be filtered))\n",
    "# Filter by locations that are contained within the region rectangle.\n",
    "region_indcs = np.where(np.logical_and(np.logical_and(xx >= yurok_reservation_long, xx <= travis_long), np.logical_and(yy >= travis_lat, yy <= yurok_reservation_lat)))\n",
    "\n",
    "xc = xx[region_indcs]\n",
    "yc = yy[region_indcs]\n",
    "print('# of Coordinates to explore in region: ' + str(len(xc)))"
   ]
  },
  {
   "cell_type": "code",
   "execution_count": 62,
   "metadata": {},
   "outputs": [
    {
     "data": {
      "text/plain": [
       "<AxesSubplot:>"
      ]
     },
     "execution_count": 62,
     "metadata": {},
     "output_type": "execute_result"
    },
    {
     "data": {
      "image/png": "[encoded data removed]",
      "text/plain": [
       "<Figure size 720x720 with 1 Axes>"
      ]
     },
     "metadata": {
      "needs_background": "light"
     },
     "output_type": "display_data"
    }
   ],
   "source": [
    "%matplotlib inline\n",
    "\n",
    "# Now convert these points to geo-data - may take a few minutes to do at most.\n",
    "\n",
    "# Credit -https://stackoverflow.com/questions/55199436/generate-grid-of-latitude-longitude-coordinates-that-fall-within-polygon\n",
    "pts = GeoSeries([Point(x, y) for x, y in zip(xc, yc)])\n",
    "in_map =  np.array([pts.within(geom) for geom in fires.geometry]).sum(axis=0)\n",
    "pts = GeoSeries([val for pos,val in enumerate(pts) if in_map[pos]])\n",
    "\n",
    "pts.plot(markersize=1, figsize=(10,10), aspect=1)"
   ]
  },
  {
   "cell_type": "code",
   "execution_count": 63,
   "metadata": {},
   "outputs": [],
   "source": [
    "# Place the list of all relevant coordinates into a json file. For now, each of them point to blank {}\n",
    "# In the future, they point to the features:data (e.g. {feature1: datum1, feature2:datum2, ...} as value per pair of coords)\n",
    "region_coords = {}\n",
    "for i in range(len(xc)):\n",
    "    region_coords[str(xc[i]) + ',' + str(yc[i])] = {}\n",
    "\n",
    "with open('northwest_region_coords.json', 'w') as f:\n",
    "    json.dump(region_coords, f)"
   ]
  },
  {
   "cell_type": "code",
   "execution_count": 64,
   "metadata": {},
   "outputs": [],
   "source": [
    "# This gives us the list of points contained within wildfires.\n",
    "# We only need to run this cell when associating the target (wildfire data) with all the region coordinates we are exploring.\n",
    "# (Reformat strings if needed to another type than the one given below - format rn is \"Lat,Long\")\n",
    "# for n, point in enumerate(pts):\n",
    "#     c = []\n",
    "#     coords = [','.join(__ for __ in _.strip().split(' ')[::-1]) for _ in str(point).split('(')[1].split(')')[0].split(',')]\n",
    "#     coords = coords[0].split(',')\n",
    "#     c.append(float(coords[0]))\n",
    "#     c.append(float(coords[1]))\n",
    "#     result.append(c)"
   ]
  },
  {
   "cell_type": "code",
   "execution_count": 65,
   "metadata": {},
   "outputs": [],
   "source": [
    "# Same as above, only run this when/if beginning to associate wildfire data instances with the grid of all points in our region.\n",
    "# with open('wildfire_instances_coords.json', 'w') as f:\n",
    "#     json.dump(result, f)"
   ]
  }
 ],
 "metadata": {
  "interpreter": {
   "hash": "e37258cc58eb3956366375243d29483dbc94c3eb5d18cff11f9a7d01665c502f"
  },
  "kernelspec": {
   "display_name": "Python 3 (ipykernel)",
   "language": "python",
   "name": "python3"
  },
  "language_info": {
   "codemirror_mode": {
    "name": "ipython",
    "version": 3
   },
   "file_extension": ".py",
   "mimetype": "text/x-python",
   "name": "python",
   "nbconvert_exporter": "python",
   "pygments_lexer": "ipython3",
   "version": "3.7.11"
  }
 },
 "nbformat": 4,
 "nbformat_minor": 4
}
