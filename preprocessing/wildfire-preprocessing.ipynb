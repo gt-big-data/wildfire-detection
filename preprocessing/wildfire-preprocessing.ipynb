{
 "cells": [
  {
   "cell_type": "code",
   "execution_count": null,
   "metadata": {},
   "outputs": [],
   "source": [
    "\n",
    "import geopandas\n",
    "from geopandas import GeoDataFrame, GeoSeries\n",
    "import matplotlib.pyplot as plt\n",
    "from matplotlib.colors import Normalize\n",
    "import matplotlib.cm as cm\n",
    "%matplotlib inline\n",
    "import seaborn as sns\n",
    "from shapely.geometry import Point, Polygon\n",
    "import numpy as np\n",
    "import googlemaps\n",
    "from datetime import datetime\n",
    "import json\n",
    "plt.rcParams[\"figure.figsize\"] = [8,6]\n",
    "\n",
    "\n",
    "# The file here looks at all California Dept of Fires (CDF) data from 2020 onwards. Polygons are thus mostly limited to California.\n",
    "fires = GeoDataFrame.from_file('./Interagency_Fire_Perimeter_History_-_All_Years (2)/InteragencyFirePerimeterHistory.shp')\n",
    "\n",
    "# Here's how the data is looking like, for reference.\n"
   ]
  },
  {
   "cell_type": "code",
   "execution_count": null,
   "metadata": {
    "scrolled": true
   },
   "outputs": [],
   "source": [
    "# FID looks like just the row numbers given after the filtering done on the dept end - nothing useful \n",
    "# Object ID may take into account the fact that we have filtered the data (some get skipped here and there).\n",
    "fires = fires.set_index('FID')\n",
    "fires = fires.sort_index()\n",
    "\n",
    "# Plot and color by map_method. In other words, provide different colors for different classifications (e.g. blue for GPS Ground, red for Infrared)\n",
    "# Not really needed, but interesting to see, and we can use this later in our analysis if needed.\n",
    "fires.plot(column = 'MAP_METHOD')\n"
   ]
  },
  {
   "cell_type": "code",
   "execution_count": null,
   "metadata": {},
   "outputs": [],
   "source": [
    "#California state boundaries\n",
    "\n",
    "startx = -114.13276715586254\n",
    "endx = -124.38498819727948\n",
    "starty = 32.5239920572277\n",
    "endy = 42.01477274871176\n",
    "\n",
    "result = []\n",
    "\n",
    "for x in np.arange(startx, endx, -1.4):\n",
    "    boundx1 = x\n",
    "    boundx2 = x - 1.4\n",
    "    for y in np.arange(starty, endy, 0.6):\n",
    "        boundy1 = y\n",
    "        boundy2 = y + 0.6\n",
    "        \n",
    "        plt.gca().set_xlim([boundx1, boundx2])\n",
    "        plt.gca().set_ylim([boundy1, boundy2])\n",
    "\n",
    "# make a grid of latitude-longitude values\n",
    "        xmin, xmax, ymin, ymax = boundx1, boundx2, boundy1, boundy2\n",
    "        xx, yy = np.meshgrid(np.linspace(xmin,xmax,50), np.linspace(ymin,ymax,50))\n",
    "        xc = xx.flatten()\n",
    "        yc = yy.flatten()\n",
    "\n",
    "# Now convert these points to geo-data - may take a few minutes to do at most.\n",
    "        pts = GeoSeries([Point(x, y) for x, y in zip(xc, yc)])\n",
    "        in_map =  np.array([pts.within(geom) for geom in fires.geometry]).sum(axis=0)\n",
    "        pts = GeoSeries([val for pos,val in enumerate(pts) if in_map[pos]])\n",
    "\n",
    "\n",
    "# We now have the points.\n",
    "\n",
    "# (Reformat strings if needed to another type than the one given below - format rn is \"Lat,Long\")\n",
    "        \n",
    "        for n, point in enumerate(pts):\n",
    "            c = []\n",
    "            coords = [','.join(__ for __ in _.strip().split(' ')[::-1]) for _ in str(point).split('(')[1].split(')')[0].split(',')]\n",
    "            coords = coords[0].split(',')\n",
    "            c.append(float(coords[0]))\n",
    "            c.append(float(coords[1]))\n",
    "            result.append(c)\n"
   ]
  },
  {
   "cell_type": "code",
   "execution_count": null,
   "metadata": {},
   "outputs": [],
   "source": [
    "with open('coords.json', 'w') as f:\n",
    "    json.dump(result, f)"
   ]
  }
 ],
 "metadata": {
  "interpreter": {
   "hash": "e37258cc58eb3956366375243d29483dbc94c3eb5d18cff11f9a7d01665c502f"
  },
  "kernelspec": {
   "display_name": "Python [conda env:env_nycgridtest]",
   "language": "python",
   "name": "python3"
  },
  "language_info": {
   "codemirror_mode": {
    "name": "ipython",
    "version": 3
   },
   "file_extension": ".py",
   "mimetype": "text/x-python",
   "name": "python",
   "nbconvert_exporter": "python",
   "pygments_lexer": "ipython3",
   "version": "3.9.7"
  }
 },
 "nbformat": 4,
 "nbformat_minor": 4
}
